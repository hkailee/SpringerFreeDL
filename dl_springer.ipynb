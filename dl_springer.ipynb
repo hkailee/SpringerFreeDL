{
 "cells": [
  {
   "cell_type": "code",
   "execution_count": 1,
   "metadata": {},
   "outputs": [],
   "source": [
    "# import sys\n",
    "# !{sys.executable} -m pip install beautifulsoup4 pandas requests tqdm"
   ]
  },
  {
   "cell_type": "code",
   "execution_count": 20,
   "metadata": {},
   "outputs": [],
   "source": [
    "from bs4 import BeautifulSoup\n",
    "from tqdm import tqdm\n",
    "import pandas as pd\n",
    "import os, requests, time, urllib"
   ]
  },
  {
   "cell_type": "code",
   "execution_count": 21,
   "metadata": {},
   "outputs": [
    {
     "data": {
      "text/html": [
       "<div>\n",
       "<style scoped>\n",
       "    .dataframe tbody tr th:only-of-type {\n",
       "        vertical-align: middle;\n",
       "    }\n",
       "\n",
       "    .dataframe tbody tr th {\n",
       "        vertical-align: top;\n",
       "    }\n",
       "\n",
       "    .dataframe thead th {\n",
       "        text-align: right;\n",
       "    }\n",
       "</style>\n",
       "<table border=\"1\" class=\"dataframe\">\n",
       "  <thead>\n",
       "    <tr style=\"text-align: right;\">\n",
       "      <th></th>\n",
       "      <th>S.No.</th>\n",
       "      <th>Book Title</th>\n",
       "      <th>Author</th>\n",
       "      <th>Edition</th>\n",
       "      <th>OpenURL</th>\n",
       "      <th>Downloaded</th>\n",
       "      <th>Remarks</th>\n",
       "    </tr>\n",
       "  </thead>\n",
       "  <tbody>\n",
       "    <tr>\n",
       "      <td>0</td>\n",
       "      <td>1</td>\n",
       "      <td>Fundamentals of Power Electronics</td>\n",
       "      <td>Robert W. Erickson, Dragan\\nMaksimovic</td>\n",
       "      <td>2nd ed.\\n2001</td>\n",
       "      <td>http://link.springer.com/openurl?genre=book&amp;is...</td>\n",
       "      <td>1</td>\n",
       "      <td>NaN</td>\n",
       "    </tr>\n",
       "    <tr>\n",
       "      <td>1</td>\n",
       "      <td>2</td>\n",
       "      <td>Handbook of the Life Course</td>\n",
       "      <td>Jeylan T. Mortimer, Michael J.\\nShanahan</td>\n",
       "      <td>2003</td>\n",
       "      <td>http://link.springer.com/openurl?genre=book&amp;is...</td>\n",
       "      <td>1</td>\n",
       "      <td>NaN</td>\n",
       "    </tr>\n",
       "    <tr>\n",
       "      <td>2</td>\n",
       "      <td>3</td>\n",
       "      <td>All of Statistics</td>\n",
       "      <td>Larry Wasserman</td>\n",
       "      <td>2004</td>\n",
       "      <td>http://link.springer.com/openurl?genre=book&amp;is...</td>\n",
       "      <td>1</td>\n",
       "      <td>NaN</td>\n",
       "    </tr>\n",
       "    <tr>\n",
       "      <td>3</td>\n",
       "      <td>4</td>\n",
       "      <td>Social Anxiety and Social Phobia in Youth</td>\n",
       "      <td>Christopher Kearney</td>\n",
       "      <td>2005</td>\n",
       "      <td>http://link.springer.com/openurl?genre=book&amp;is...</td>\n",
       "      <td>1</td>\n",
       "      <td>NaN</td>\n",
       "    </tr>\n",
       "    <tr>\n",
       "      <td>4</td>\n",
       "      <td>5</td>\n",
       "      <td>Discrete Mathematics</td>\n",
       "      <td>László Lovász, József Pelikán, Katalin\\nVeszte...</td>\n",
       "      <td>2003</td>\n",
       "      <td>http://link.springer.com/openurl?genre=book&amp;is...</td>\n",
       "      <td>1</td>\n",
       "      <td>NaN</td>\n",
       "    </tr>\n",
       "  </tbody>\n",
       "</table>\n",
       "</div>"
      ],
      "text/plain": [
       "   S.No.                                 Book Title  \\\n",
       "0      1          Fundamentals of Power Electronics   \n",
       "1      2                Handbook of the Life Course   \n",
       "2      3                          All of Statistics   \n",
       "3      4  Social Anxiety and Social Phobia in Youth   \n",
       "4      5                       Discrete Mathematics   \n",
       "\n",
       "                                              Author        Edition  \\\n",
       "0             Robert W. Erickson, Dragan\\nMaksimovic  2nd ed.\\n2001   \n",
       "1           Jeylan T. Mortimer, Michael J.\\nShanahan           2003   \n",
       "2                                    Larry Wasserman           2004   \n",
       "3                                Christopher Kearney           2005   \n",
       "4  László Lovász, József Pelikán, Katalin\\nVeszte...           2003   \n",
       "\n",
       "                                             OpenURL  Downloaded Remarks  \n",
       "0  http://link.springer.com/openurl?genre=book&is...           1     NaN  \n",
       "1  http://link.springer.com/openurl?genre=book&is...           1     NaN  \n",
       "2  http://link.springer.com/openurl?genre=book&is...           1     NaN  \n",
       "3  http://link.springer.com/openurl?genre=book&is...           1     NaN  \n",
       "4  http://link.springer.com/openurl?genre=book&is...           1     NaN  "
      ]
     },
     "execution_count": 21,
     "metadata": {},
     "output_type": "execute_result"
    }
   ],
   "source": [
    "# import books info and links\n",
    "df = pd.read_excel('5_6134188041515827412-converted.xlsx', sheet_name='Table 1')\n",
    "df.head()"
   ]
  },
  {
   "cell_type": "code",
   "execution_count": 23,
   "metadata": {},
   "outputs": [],
   "source": [
    "# Set headers\n",
    "headers = requests.utils.default_headers()\n",
    "\n",
    "# create local download dir        \n",
    "if not os.path.exists('Springer_Ebooks'):\n",
    "    os.makedirs('Springer_Ebooks')\n",
    "\n",
    "# define dl function\n",
    "def download_file(item, df):\n",
    "    \n",
    "    url = df.loc[item, 'OpenURL']     # get server url\n",
    "    req = requests.get(url, headers)  # request server url using get method\n",
    "    soup = BeautifulSoup(req.content, 'html.parser') # parsing requested html\n",
    "\n",
    "    # define necessary server file url and local filename\n",
    "    server_dir = soup.find(\"a\", title=\"Download this book in PDF format\").get('href')\n",
    "    server_domain = 'https://link.springer.com'\n",
    "    local_filename = '{}_{}_{}.pdf'.format(df.loc[item, 'Book Title'],\n",
    "                                       df.loc[item, 'Author'].split(',')[0],\n",
    "                                       str(df.loc[item, 'Edition']).replace(\"\\n\", \"\"))\n",
    "    # NOTE the stream=True parameter below\n",
    "    with requests.get(server_domain + server_dir, stream=True) as r:\n",
    "        r.raise_for_status()\n",
    "        with open('Springer_Ebooks/'+ local_filename, 'wb') as f:\n",
    "            for chunk in r.iter_content(chunk_size=8192): \n",
    "                if chunk: # filter out keep-alive new chunks\n",
    "                    f.write(chunk)\n",
    "                    # f.flush()\n",
    "    \n",
    "    return local_filename\n"
   ]
  },
  {
   "cell_type": "code",
   "execution_count": 24,
   "metadata": {},
   "outputs": [
    {
     "name": "stderr",
     "output_type": "stream",
     "text": [
      "Downloading ebook pdf...: 100%|██████████| 1/1 [00:09<00:00,  9.77s/pdf]\n"
     ]
    }
   ],
   "source": [
    "for item in tqdm(df.index, desc='Downloading ebook pdf...', unit='pdf', position=0):\n",
    "    download_file(item, df)"
   ]
  },
  {
   "cell_type": "code",
   "execution_count": 26,
   "metadata": {},
   "outputs": [
    {
     "name": "stdout",
     "output_type": "stream",
     "text": [
      "Total books to download: 408\n"
     ]
    }
   ],
   "source": [
    "print('Total books to download: {}'.format(len(df.index)))"
   ]
  },
  {
   "cell_type": "markdown",
   "metadata": {},
   "source": [
    "# 117, 407 not free..."
   ]
  }
 ],
 "metadata": {
  "kernelspec": {
   "display_name": "Python 3",
   "language": "python",
   "name": "python3"
  },
  "language_info": {
   "codemirror_mode": {
    "name": "ipython",
    "version": 3
   },
   "file_extension": ".py",
   "mimetype": "text/x-python",
   "name": "python",
   "nbconvert_exporter": "python",
   "pygments_lexer": "ipython3",
   "version": "3.6.9"
  }
 },
 "nbformat": 4,
 "nbformat_minor": 2
}
